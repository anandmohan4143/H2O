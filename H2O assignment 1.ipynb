{
 "cells": [
  {
   "cell_type": "code",
   "execution_count": 3,
   "metadata": {},
   "outputs": [
    {
     "name": "stdout",
     "output_type": "stream",
     "text": [
      "Dataset sample is \n",
      "   calories  protein  fat  vitamins  fibre  price\n",
      "1       160        4    1        52      6  130.2\n",
      "2        58        6    0        30      7   63.6\n",
      "3        59        1    3        41     14   77.5\n",
      "4        82        4    0         4      2   48.6\n",
      "5       137        2    1        78      7  139.3\n",
      "Checking whether there is an H2O instance running at http://localhost:54321. connected.\n"
     ]
    },
    {
     "data": {
      "text/html": [
       "<div style=\"overflow:auto\"><table style=\"width:50%\"><tr><td>H2O cluster uptime:</td>\n",
       "<td>1 min 41 secs</td></tr>\n",
       "<tr><td>H2O cluster timezone:</td>\n",
       "<td>Asia/Kolkata</td></tr>\n",
       "<tr><td>H2O data parsing timezone:</td>\n",
       "<td>UTC</td></tr>\n",
       "<tr><td>H2O cluster version:</td>\n",
       "<td>3.22.1.1</td></tr>\n",
       "<tr><td>H2O cluster version age:</td>\n",
       "<td>1 month and 27 days </td></tr>\n",
       "<tr><td>H2O cluster name:</td>\n",
       "<td>H2O_from_python_AnandNoctis_xvn8fr</td></tr>\n",
       "<tr><td>H2O cluster total nodes:</td>\n",
       "<td>1</td></tr>\n",
       "<tr><td>H2O cluster free memory:</td>\n",
       "<td>1.301 Gb</td></tr>\n",
       "<tr><td>H2O cluster total cores:</td>\n",
       "<td>4</td></tr>\n",
       "<tr><td>H2O cluster allowed cores:</td>\n",
       "<td>4</td></tr>\n",
       "<tr><td>H2O cluster status:</td>\n",
       "<td>locked, healthy</td></tr>\n",
       "<tr><td>H2O connection url:</td>\n",
       "<td>http://localhost:54321</td></tr>\n",
       "<tr><td>H2O connection proxy:</td>\n",
       "<td>None</td></tr>\n",
       "<tr><td>H2O internal security:</td>\n",
       "<td>False</td></tr>\n",
       "<tr><td>H2O API Extensions:</td>\n",
       "<td>Algos, AutoML, Core V3, Core V4</td></tr>\n",
       "<tr><td>Python version:</td>\n",
       "<td>3.6.8 final</td></tr></table></div>"
      ],
      "text/plain": [
       "--------------------------  ----------------------------------\n",
       "H2O cluster uptime:         1 min 41 secs\n",
       "H2O cluster timezone:       Asia/Kolkata\n",
       "H2O data parsing timezone:  UTC\n",
       "H2O cluster version:        3.22.1.1\n",
       "H2O cluster version age:    1 month and 27 days\n",
       "H2O cluster name:           H2O_from_python_AnandNoctis_xvn8fr\n",
       "H2O cluster total nodes:    1\n",
       "H2O cluster free memory:    1.301 Gb\n",
       "H2O cluster total cores:    4\n",
       "H2O cluster allowed cores:  4\n",
       "H2O cluster status:         locked, healthy\n",
       "H2O connection url:         http://localhost:54321\n",
       "H2O connection proxy:\n",
       "H2O internal security:      False\n",
       "H2O API Extensions:         Algos, AutoML, Core V3, Core V4\n",
       "Python version:             3.6.8 final\n",
       "--------------------------  ----------------------------------"
      ]
     },
     "metadata": {},
     "output_type": "display_data"
    },
    {
     "name": "stdout",
     "output_type": "stream",
     "text": [
      "Parse progress: |█████████████████████████████████████████████████████████| 100%\n"
     ]
    },
    {
     "data": {
      "text/html": [
       "<table>\n",
       "<thead>\n",
       "<tr><th>       </th><th>calories          </th><th>protein          </th><th>fat              </th><th>vitamins          </th><th>fibre            </th><th>price             </th></tr>\n",
       "</thead>\n",
       "<tbody>\n",
       "<tr><td>type   </td><td>int               </td><td>int              </td><td>int              </td><td>int               </td><td>int              </td><td>real              </td></tr>\n",
       "<tr><td>mins   </td><td>50.0              </td><td>1.0              </td><td>0.0              </td><td>0.0               </td><td>0.0              </td><td>33.6              </td></tr>\n",
       "<tr><td>mean   </td><td>104.29299999999992</td><td>3.489999999999999</td><td>2.507000000000002</td><td>49.50000000000001 </td><td>7.047000000000003</td><td>101.38889999999988</td></tr>\n",
       "<tr><td>maxs   </td><td>160.0             </td><td>6.0              </td><td>5.0              </td><td>100.0             </td><td>14.0             </td><td>173.3             </td></tr>\n",
       "<tr><td>sigma  </td><td>32.02940889298512 </td><td>1.681287223149789</td><td>1.738094350710562</td><td>29.099876336555173</td><td>4.245564251759218</td><td>28.934454711631595</td></tr>\n",
       "<tr><td>zeros  </td><td>0                 </td><td>0                </td><td>166              </td><td>13                </td><td>56               </td><td>0                 </td></tr>\n",
       "<tr><td>missing</td><td>0                 </td><td>0                </td><td>0                </td><td>0                 </td><td>0                </td><td>0                 </td></tr>\n",
       "<tr><td>0      </td><td>160.0             </td><td>4.0              </td><td>1.0              </td><td>52.0              </td><td>6.0              </td><td>130.2             </td></tr>\n",
       "<tr><td>1      </td><td>58.0              </td><td>6.0              </td><td>0.0              </td><td>30.0              </td><td>7.0              </td><td>63.6              </td></tr>\n",
       "<tr><td>2      </td><td>59.0              </td><td>1.0              </td><td>3.0              </td><td>41.0              </td><td>14.0             </td><td>77.5              </td></tr>\n",
       "<tr><td>3      </td><td>82.0              </td><td>4.0              </td><td>0.0              </td><td>4.0               </td><td>2.0              </td><td>48.6              </td></tr>\n",
       "<tr><td>4      </td><td>137.0             </td><td>2.0              </td><td>1.0              </td><td>78.0              </td><td>7.0              </td><td>139.3             </td></tr>\n",
       "<tr><td>5      </td><td>142.0             </td><td>4.0              </td><td>0.0              </td><td>52.0              </td><td>4.0              </td><td>119.0             </td></tr>\n",
       "<tr><td>6      </td><td>95.0              </td><td>4.0              </td><td>0.0              </td><td>53.0              </td><td>10.0             </td><td>102.3             </td></tr>\n",
       "<tr><td>7      </td><td>125.0             </td><td>4.0              </td><td>3.0              </td><td>58.0              </td><td>4.0              </td><td>115.9             </td></tr>\n",
       "<tr><td>8      </td><td>128.0             </td><td>6.0              </td><td>1.0              </td><td>56.0              </td><td>13.0             </td><td>125.6             </td></tr>\n",
       "<tr><td>9      </td><td>87.0              </td><td>3.0              </td><td>5.0              </td><td>33.0              </td><td>13.0             </td><td>85.7              </td></tr>\n",
       "</tbody>\n",
       "</table>"
      ]
     },
     "metadata": {},
     "output_type": "display_data"
    },
    {
     "name": "stdout",
     "output_type": "stream",
     "text": [
      "Train record number :  781\n",
      "Test record number :  110\n",
      "Validation record number :  109\n",
      "\n",
      "First Model\n",
      "gbm Model Build progress: |███████████████████████████████████████████████| 100%\n",
      "Train MAE :  1.6381136460737749\n",
      "Valid MAE :  4.708727214766046\n",
      "Test MAE :  1.6381130091146345\n",
      "\n",
      "Second Model\n",
      "gbm Model Build progress: |███████████████████████████████████████████████| 100%\n",
      "Train MAE :  1.6381136460737749 ---> 0.011898734352805397\n",
      "Valid MAE :  4.708727214766046 ---> 4.073426408960892\n",
      "Test MAE :  1.6381130091146345 ---> 0.011900296699354839\n",
      "Are you sure you want to shutdown the H2O instance running at http://localhost:54321 (Y/N)? y\n",
      "H2O session _sid_a597 closed.\n"
     ]
    }
   ],
   "source": [
    "#Importing all necessary libraries\n",
    "import h2o\n",
    "import pandas as pd\n",
    "import numpy as np\n",
    "from h2o.estimators.gbm import H2OGradientBoostingEstimator\n",
    "\n",
    "# Step 1 -Nutrition Level Pricing Dataset\n",
    "id=range(1,1001)\n",
    "calories=np.random.uniform(50,161,1000).astype('int')\n",
    "protein=np.random.uniform(1,7,1000).astype('int')\n",
    "fat=np.random.uniform(0,6,1000).astype('int')\n",
    "vitamins=np.random.uniform(0,101,1000).astype('int')\n",
    "fibre=np.random.uniform(0,15,1000).astype('int')\n",
    "price=((calories*50)+(fat*20)+(vitamins*80)+(fibre*100)+(protein*60))/100\n",
    "data={'id':list(id),\n",
    "      'calories':list(calories),\n",
    "      'protein':list(protein),\n",
    "      'fat':list(fat),\n",
    "      'vitamins':list(vitamins),\n",
    "      'fibre':list(fibre),\n",
    "      'price':list(price)}\n",
    "dataset=pd.DataFrame(data,index=data['id'])\n",
    "del dataset['id']\n",
    "print(\"Dataset sample is \")\n",
    "print(dataset.head())\n",
    "\n",
    "#Step 2 - started h2o and imported dataset into h2o frame\n",
    "h2o.init()\n",
    "H2O_dataset=h2o.H2OFrame(dataset,destination_frame='nutrition_price')\n",
    "H2O_dataset.summary()\n",
    "#Step 3 - Splitting h2o dataset into train,valid and test sets\n",
    "train,valid,test= H2O_dataset.split_frame(ratios=[0.79,0.1],\n",
    "                                          destination_frames=['nutrition_test','nutrition_valid','nutrition_test'],\n",
    "                                         seed=123)\n",
    "print(\"Train record number : \",train.nrows)\n",
    "print(\"Test record number : \",test.nrows)\n",
    "print(\"Validation record number : \",valid.nrows)\n",
    "\n",
    "#Step 4 - Train th model with the dataset and generating the mean absolute error on train,test and valid dataset \n",
    "target=\"price\"\n",
    "features=[i for i in train.names if i not in [\"id\",\"price\"]]\n",
    "print(\"\\nFirst Model\")\n",
    "ml=H2OGradientBoostingEstimator(model_id=\"NutritionPricing\")\n",
    "ml.train(features,target,train,validation_frame=valid)\n",
    "print(\"Train MAE : \",ml.mae(train=True))\n",
    "print(\"Valid MAE : \",ml.mae(valid=True))\n",
    "perf=ml.model_performance(test)\n",
    "print(\"Test MAE : \",perf.mae())\n",
    "\n",
    "#Step 5 - Changing the model to overfit the dataset\n",
    "print(\"\\nSecond Model\")\n",
    "ml2=H2OGradientBoostingEstimator(model_id=\"NutritionPricing_Overfitting\",ntrees=1000,max_depth=10)\n",
    "ml2.train(features,target,train,validation_frame=valid)\n",
    "print(\"Train MAE : \",ml.mae(train=True),\"--->\",ml2.mae(train=True))\n",
    "print(\"Valid MAE : \",ml.mae(valid=True),\"--->\",ml2.mae(valid=True))\n",
    "perf2=ml2.model_performance(test)\n",
    "print(\"Test MAE : \",perf.mae(),\"--->\",perf2.mae())\n",
    "\n",
    "#Step 6 - Closing H2O \n",
    "h2o.cluster().shutdown(prompt=True)"
   ]
  },
  {
   "cell_type": "code",
   "execution_count": null,
   "metadata": {},
   "outputs": [],
   "source": []
  }
 ],
 "metadata": {
  "kernelspec": {
   "display_name": "Python 3",
   "language": "python",
   "name": "python3"
  },
  "language_info": {
   "codemirror_mode": {
    "name": "ipython",
    "version": 3
   },
   "file_extension": ".py",
   "mimetype": "text/x-python",
   "name": "python",
   "nbconvert_exporter": "python",
   "pygments_lexer": "ipython3",
   "version": "3.6.8"
  }
 },
 "nbformat": 4,
 "nbformat_minor": 2
}
